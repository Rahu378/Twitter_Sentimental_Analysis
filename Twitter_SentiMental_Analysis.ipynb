{
 "cells": [
  {
   "cell_type": "markdown",
   "id": "798144c8",
   "metadata": {},
   "source": [
    "# \"# Twitter Data Sentiment Analysis\\n\",\n",
    "\n",
    " 1) Twitter Data:- First step is to configure twitter API and gather twitter data\n",
    " \n",
    " 2) Clean the data\n",
    " \n",
    " 3) Sentiment:- To find out sentiments\n",
    " \n",
    " 4) Analysis:- To do analysis\n",
    " \n",
    " 5)plotting and Visualizing the counts"
   ]
  },
  {
   "cell_type": "markdown",
   "id": "d2242e4d",
   "metadata": {},
   "source": [
    "# installation of Libraries and Packages"
   ]
  },
  {
   "cell_type": "code",
   "execution_count": 1,
   "id": "6144dc7d",
   "metadata": {
    "scrolled": false
   },
   "outputs": [
    {
     "name": "stdout",
     "output_type": "stream",
     "text": [
      "Requirement already satisfied: tweepy in c:\\users\\chidi\\anaconda3\\lib\\site-packages (4.4.0)\n",
      "Requirement already satisfied: requests-oauthlib<2,>=1.0.0 in c:\\users\\chidi\\anaconda3\\lib\\site-packages (from tweepy) (1.3.0)\n",
      "Requirement already satisfied: requests<3,>=2.11.1 in c:\\users\\chidi\\anaconda3\\lib\\site-packages (from tweepy) (2.26.0)\n",
      "Requirement already satisfied: idna<4,>=2.5 in c:\\users\\chidi\\anaconda3\\lib\\site-packages (from requests<3,>=2.11.1->tweepy) (3.2)\n",
      "Requirement already satisfied: charset-normalizer~=2.0.0 in c:\\users\\chidi\\anaconda3\\lib\\site-packages (from requests<3,>=2.11.1->tweepy) (2.0.4)\n",
      "Requirement already satisfied: certifi>=2017.4.17 in c:\\users\\chidi\\anaconda3\\lib\\site-packages (from requests<3,>=2.11.1->tweepy) (2021.10.8)\n",
      "Requirement already satisfied: urllib3<1.27,>=1.21.1 in c:\\users\\chidi\\anaconda3\\lib\\site-packages (from requests<3,>=2.11.1->tweepy) (1.26.7)\n",
      "Requirement already satisfied: oauthlib>=3.0.0 in c:\\users\\chidi\\anaconda3\\lib\\site-packages (from requests-oauthlib<2,>=1.0.0->tweepy) (3.1.1)\n",
      "Note: you may need to restart the kernel to use updated packages.\n"
     ]
    }
   ],
   "source": [
    "pip install tweepy\n"
   ]
  },
  {
   "cell_type": "code",
   "execution_count": 2,
   "id": "58a28b06",
   "metadata": {},
   "outputs": [
    {
     "name": "stdout",
     "output_type": "stream",
     "text": [
      "Requirement already satisfied: textblob in c:\\users\\chidi\\anaconda3\\lib\\site-packages (0.17.1)\n",
      "Requirement already satisfied: nltk>=3.1 in c:\\users\\chidi\\anaconda3\\lib\\site-packages (from textblob) (3.6.5)\n",
      "Requirement already satisfied: click in c:\\users\\chidi\\anaconda3\\lib\\site-packages (from nltk>=3.1->textblob) (8.0.3)\n",
      "Requirement already satisfied: joblib in c:\\users\\chidi\\anaconda3\\lib\\site-packages (from nltk>=3.1->textblob) (1.1.0)\n",
      "Requirement already satisfied: regex>=2021.8.3 in c:\\users\\chidi\\anaconda3\\lib\\site-packages (from nltk>=3.1->textblob) (2021.8.3)\n",
      "Requirement already satisfied: tqdm in c:\\users\\chidi\\anaconda3\\lib\\site-packages (from nltk>=3.1->textblob) (4.62.3)\n",
      "Requirement already satisfied: colorama in c:\\users\\chidi\\anaconda3\\lib\\site-packages (from click->nltk>=3.1->textblob) (0.4.4)\n",
      "Note: you may need to restart the kernel to use updated packages.\n"
     ]
    }
   ],
   "source": [
    "pip install textblob"
   ]
  },
  {
   "cell_type": "code",
   "execution_count": 11,
   "id": "8b47c716",
   "metadata": {},
   "outputs": [
    {
     "name": "stdout",
     "output_type": "stream",
     "text": [
      "Requirement already satisfied: wordcloud in c:\\users\\chidi\\anaconda3\\lib\\site-packages (1.8.1)Note: you may need to restart the kernel to use updated packages.\n",
      "Requirement already satisfied: pillow in c:\\users\\chidi\\anaconda3\\lib\\site-packages (from wordcloud) (8.4.0)\n",
      "Requirement already satisfied: numpy>=1.6.1 in c:\\users\\chidi\\anaconda3\\lib\\site-packages (from wordcloud) (1.20.3)\n",
      "Requirement already satisfied: matplotlib in c:\\users\\chidi\\anaconda3\\lib\\site-packages (from wordcloud) (3.4.3)\n",
      "Requirement already satisfied: kiwisolver>=1.0.1 in c:\\users\\chidi\\anaconda3\\lib\\site-packages (from matplotlib->wordcloud) (1.3.1)\n",
      "Requirement already satisfied: cycler>=0.10 in c:\\users\\chidi\\anaconda3\\lib\\site-packages (from matplotlib->wordcloud) (0.10.0)\n",
      "Requirement already satisfied: python-dateutil>=2.7 in c:\\users\\chidi\\anaconda3\\lib\\site-packages (from matplotlib->wordcloud) (2.8.2)\n",
      "Requirement already satisfied: pyparsing>=2.2.1 in c:\\users\\chidi\\anaconda3\\lib\\site-packages (from matplotlib->wordcloud) (3.0.4)\n",
      "Requirement already satisfied: six in c:\\users\\chidi\\anaconda3\\lib\\site-packages (from cycler>=0.10->matplotlib->wordcloud) (1.16.0)\n",
      "\n"
     ]
    }
   ],
   "source": [
    "pip install wordcloud"
   ]
  },
  {
   "cell_type": "code",
   "execution_count": 3,
   "id": "753372b5",
   "metadata": {},
   "outputs": [
    {
     "name": "stdout",
     "output_type": "stream",
     "text": [
      "Requirement already satisfied: pandas in c:\\users\\chidi\\anaconda3\\lib\\site-packages (1.3.4)\n",
      "Requirement already satisfied: pytz>=2017.3 in c:\\users\\chidi\\anaconda3\\lib\\site-packages (from pandas) (2021.3)\n",
      "Requirement already satisfied: numpy>=1.17.3 in c:\\users\\chidi\\anaconda3\\lib\\site-packages (from pandas) (1.20.3)\n",
      "Requirement already satisfied: python-dateutil>=2.7.3 in c:\\users\\chidi\\anaconda3\\lib\\site-packages (from pandas) (2.8.2)\n",
      "Requirement already satisfied: six>=1.5 in c:\\users\\chidi\\anaconda3\\lib\\site-packages (from python-dateutil>=2.7.3->pandas) (1.16.0)\n"
     ]
    }
   ],
   "source": [
    "!pip install pandas "
   ]
  },
  {
   "cell_type": "code",
   "execution_count": 4,
   "id": "15d19b8d",
   "metadata": {},
   "outputs": [
    {
     "name": "stdout",
     "output_type": "stream",
     "text": [
      "Requirement already satisfied: numpy in c:\\users\\chidi\\anaconda3\\lib\\site-packages (1.20.3)\n",
      "Note: you may need to restart the kernel to use updated packages.\n"
     ]
    }
   ],
   "source": [
    "pip install numpy"
   ]
  },
  {
   "cell_type": "markdown",
   "id": "c7352bb5",
   "metadata": {},
   "source": [
    "# Code begins"
   ]
  },
  {
   "cell_type": "code",
   "execution_count": 12,
   "id": "b7826499",
   "metadata": {},
   "outputs": [],
   "source": [
    "# Import the libraries\n",
    "import tweepy\n",
    "from textblob import TextBlob\n",
    "from wordcloud import WordCloud\n",
    "import pandas as pd\n",
    "import numpy as np\n",
    "import re\n",
    "import matplotlib.pyplot as plt\n",
    "\n",
    "\n",
    "# Twitter Api Credentials\n",
    "APIkey= \"6e9NdMl4faDsuKZnzMeeUs7Of\"\n",
    "APISecreatKey= \"SeJqKOeSp4tCZGYWqFhPxdlCoV5z3hWp5rGblwEsV5LdlGemxO\"\n",
    "accessToken= \"1434032678970429441-XiwwPoHT4Gj6yZEn2hAJOD1vnfIjEE\"\n",
    "accessTokenSecreat= \"VKfK3kTPSvWYqsWjlmoAfCnvPd7Wi1JV5nqkj4XN6mXul\"\n",
    "\n",
    "# Create the authentication object\n",
    "authenticate = tweepy.OAuthHandler(APIkey,APISecreatKey)\n",
    "# Set the access token and access token secret\n",
    "authenticate.set_access_token(accessToken,accessTokenSecreat)\n",
    "# Creating the API object while passing in auth information\n",
    "api= tweepy.API(authenticate) \n"
   ]
  },
  {
   "cell_type": "markdown",
   "id": "e3c13fe0",
   "metadata": {},
   "source": [
    "# Extract and Analyze the Data\n",
    "the 10 most recent tweets on screen_name = \"Rahul\""
   ]
  },
  {
   "cell_type": "code",
   "execution_count": 31,
   "id": "dc7f1fc1",
   "metadata": {
    "scrolled": true
   },
   "outputs": [
    {
     "name": "stderr",
     "output_type": "stream",
     "text": [
      "Unexpected parameter: lang\n"
     ]
    },
    {
     "name": "stdout",
     "output_type": "stream",
     "text": [
      "1)RT @roryreckons: People often ask me how I tell the difference between ADHD and Autism. It's hard - I know ADHD people ask this more, so he…\n",
      "\n",
      "2)\"we fixed it, now it's alphabetic and inclusive of non-binary people\"\n",
      "\n",
      "🤨 https://t.co/OlyN2Dj5C1\n",
      "\n",
      "3)what kind of energy supermix is this, youtube https://t.co/VNqFaaHeMP\n",
      "\n",
      "4)@bombsfall this thread in Reader mode is next level\n",
      "\n",
      "5)https://t.co/3sQmAKyTfp\n",
      "\n",
      "6)RT @DavidRickmann: This thread is ova rated.\n",
      "\n",
      "7)@unknownrelic 😠\n",
      "\n",
      "8)@imdanielholt @trulyaliem just as well, that house has no corners to sob in anyway\n",
      "\n",
      "9)@mattfgl no but I might have to now!! this is just my average wednesday afternoon\n",
      "\n",
      "10)is the existence of consciousness of net benefit to the universe?\n",
      "\n"
     ]
    }
   ],
   "source": [
    "# Extract 100 tweets from the twitter user\n",
    "posts = api.user_timeline(screen_name=\"Rahul\", count = 100,lang =\"en\", tweet_mode=\"extended\")\n",
    "i=1\n",
    "for tweet in posts[:10]:\n",
    "    print(str(i)+ ')'+ tweet.full_text +'\\n')\n",
    "    i=i+1"
   ]
  },
  {
   "cell_type": "code",
   "execution_count": 32,
   "id": "78a7cab8",
   "metadata": {
    "scrolled": true
   },
   "outputs": [
    {
     "data": {
      "text/html": [
       "<div>\n",
       "<style scoped>\n",
       "    .dataframe tbody tr th:only-of-type {\n",
       "        vertical-align: middle;\n",
       "    }\n",
       "\n",
       "    .dataframe tbody tr th {\n",
       "        vertical-align: top;\n",
       "    }\n",
       "\n",
       "    .dataframe thead th {\n",
       "        text-align: right;\n",
       "    }\n",
       "</style>\n",
       "<table border=\"1\" class=\"dataframe\">\n",
       "  <thead>\n",
       "    <tr style=\"text-align: right;\">\n",
       "      <th></th>\n",
       "      <th>Tweets</th>\n",
       "    </tr>\n",
       "  </thead>\n",
       "  <tbody>\n",
       "    <tr>\n",
       "      <th>0</th>\n",
       "      <td>RT @roryreckons: People often ask me how I tel...</td>\n",
       "    </tr>\n",
       "    <tr>\n",
       "      <th>1</th>\n",
       "      <td>\"we fixed it, now it's alphabetic and inclusiv...</td>\n",
       "    </tr>\n",
       "    <tr>\n",
       "      <th>2</th>\n",
       "      <td>what kind of energy supermix is this, youtube ...</td>\n",
       "    </tr>\n",
       "    <tr>\n",
       "      <th>3</th>\n",
       "      <td>@bombsfall this thread in Reader mode is next ...</td>\n",
       "    </tr>\n",
       "    <tr>\n",
       "      <th>4</th>\n",
       "      <td>https://t.co/3sQmAKyTfp</td>\n",
       "    </tr>\n",
       "    <tr>\n",
       "      <th>...</th>\n",
       "      <td>...</td>\n",
       "    </tr>\n",
       "    <tr>\n",
       "      <th>95</th>\n",
       "      <td>RT @irondavy: Submitted for your approval: my ...</td>\n",
       "    </tr>\n",
       "    <tr>\n",
       "      <th>96</th>\n",
       "      <td>@aboodman I remember asking chrome devrel for ...</td>\n",
       "    </tr>\n",
       "    <tr>\n",
       "      <th>97</th>\n",
       "      <td>RT @PennyRed: ‘Normal life will come back slow...</td>\n",
       "    </tr>\n",
       "    <tr>\n",
       "      <th>98</th>\n",
       "      <td>@aboodman @ErikArvidsson This is literally one...</td>\n",
       "    </tr>\n",
       "    <tr>\n",
       "      <th>99</th>\n",
       "      <td>@tesseralis https://t.co/FBNkyQIj8Z</td>\n",
       "    </tr>\n",
       "  </tbody>\n",
       "</table>\n",
       "<p>100 rows × 1 columns</p>\n",
       "</div>"
      ],
      "text/plain": [
       "                                               Tweets\n",
       "0   RT @roryreckons: People often ask me how I tel...\n",
       "1   \"we fixed it, now it's alphabetic and inclusiv...\n",
       "2   what kind of energy supermix is this, youtube ...\n",
       "3   @bombsfall this thread in Reader mode is next ...\n",
       "4                             https://t.co/3sQmAKyTfp\n",
       "..                                                ...\n",
       "95  RT @irondavy: Submitted for your approval: my ...\n",
       "96  @aboodman I remember asking chrome devrel for ...\n",
       "97  RT @PennyRed: ‘Normal life will come back slow...\n",
       "98  @aboodman @ErikArvidsson This is literally one...\n",
       "99                @tesseralis https://t.co/FBNkyQIj8Z\n",
       "\n",
       "[100 rows x 1 columns]"
      ]
     },
     "execution_count": 32,
     "metadata": {},
     "output_type": "execute_result"
    }
   ],
   "source": [
    "# Create a dataframe with a column called Tweets\n",
    "df = pd.DataFrame([tweet.full_text for tweet in posts], columns=['Tweets'])\n",
    "df\n"
   ]
  },
  {
   "cell_type": "markdown",
   "id": "6427700f",
   "metadata": {},
   "source": [
    "# Create a function to clean the tweets\n"
   ]
  },
  {
   "cell_type": "code",
   "execution_count": 33,
   "id": "a144950b",
   "metadata": {},
   "outputs": [
    {
     "data": {
      "text/html": [
       "<div>\n",
       "<style scoped>\n",
       "    .dataframe tbody tr th:only-of-type {\n",
       "        vertical-align: middle;\n",
       "    }\n",
       "\n",
       "    .dataframe tbody tr th {\n",
       "        vertical-align: top;\n",
       "    }\n",
       "\n",
       "    .dataframe thead th {\n",
       "        text-align: right;\n",
       "    }\n",
       "</style>\n",
       "<table border=\"1\" class=\"dataframe\">\n",
       "  <thead>\n",
       "    <tr style=\"text-align: right;\">\n",
       "      <th></th>\n",
       "      <th>Tweets</th>\n",
       "    </tr>\n",
       "  </thead>\n",
       "  <tbody>\n",
       "    <tr>\n",
       "      <th>0</th>\n",
       "      <td>: People often ask me how I tell the differenc...</td>\n",
       "    </tr>\n",
       "    <tr>\n",
       "      <th>1</th>\n",
       "      <td>\"we fixed it, now it's alphabetic and inclusiv...</td>\n",
       "    </tr>\n",
       "    <tr>\n",
       "      <th>2</th>\n",
       "      <td>what kind of energy supermix is this, youtube</td>\n",
       "    </tr>\n",
       "    <tr>\n",
       "      <th>3</th>\n",
       "      <td>this thread in Reader mode is next level</td>\n",
       "    </tr>\n",
       "    <tr>\n",
       "      <th>4</th>\n",
       "      <td></td>\n",
       "    </tr>\n",
       "    <tr>\n",
       "      <th>...</th>\n",
       "      <td>...</td>\n",
       "    </tr>\n",
       "    <tr>\n",
       "      <th>95</th>\n",
       "      <td>: Submitted for your approval: my TOP FIFTY de...</td>\n",
       "    </tr>\n",
       "    <tr>\n",
       "      <th>96</th>\n",
       "      <td>I remember asking chrome devrel for the jQuer...</td>\n",
       "    </tr>\n",
       "    <tr>\n",
       "      <th>97</th>\n",
       "      <td>: ‘Normal life will come back slow and strange...</td>\n",
       "    </tr>\n",
       "    <tr>\n",
       "      <th>98</th>\n",
       "      <td>This is literally one of my interview questi...</td>\n",
       "    </tr>\n",
       "    <tr>\n",
       "      <th>99</th>\n",
       "      <td></td>\n",
       "    </tr>\n",
       "  </tbody>\n",
       "</table>\n",
       "<p>100 rows × 1 columns</p>\n",
       "</div>"
      ],
      "text/plain": [
       "                                               Tweets\n",
       "0   : People often ask me how I tell the differenc...\n",
       "1   \"we fixed it, now it's alphabetic and inclusiv...\n",
       "2      what kind of energy supermix is this, youtube \n",
       "3            this thread in Reader mode is next level\n",
       "4                                                    \n",
       "..                                                ...\n",
       "95  : Submitted for your approval: my TOP FIFTY de...\n",
       "96   I remember asking chrome devrel for the jQuer...\n",
       "97  : ‘Normal life will come back slow and strange...\n",
       "98    This is literally one of my interview questi...\n",
       "99                                                   \n",
       "\n",
       "[100 rows x 1 columns]"
      ]
     },
     "execution_count": 33,
     "metadata": {},
     "output_type": "execute_result"
    }
   ],
   "source": [
    "def cleanTxt(text):\n",
    " text = re.sub('@[A-Za-z0–9]+', '', text) #Removing @mentions\n",
    " text = re.sub('#', '', text) # Removing '#' hash tag\n",
    " text = re.sub('RT[\\s]+', '', text) # Removing RT\n",
    " text = re.sub('https?:\\/\\/\\S+', '', text) # Removing hyperlink\n",
    " \n",
    " return text\n",
    "\n",
    "\n",
    "# Clean the tweets\n",
    "df['Tweets'] = df['Tweets'].apply(cleanTxt)\n",
    "\n",
    "# Show the cleaned tweets\n",
    "df"
   ]
  },
  {
   "cell_type": "markdown",
   "id": "1e2d11c2",
   "metadata": {},
   "source": [
    "# Sentimental Analysis\n",
    "on a general statetement (test case)"
   ]
  },
  {
   "cell_type": "code",
   "execution_count": 36,
   "id": "dcbf33d3",
   "metadata": {},
   "outputs": [
    {
     "data": {
      "text/plain": [
       "Sentiment(polarity=1.0, subjectivity=1.0)"
      ]
     },
     "execution_count": 36,
     "metadata": {},
     "output_type": "execute_result"
    }
   ],
   "source": [
    "analysis=TextBlob(\"Today was the wonderful  day\")\n",
    "\n",
    "analysis.sentiment"
   ]
  },
  {
   "cell_type": "code",
   "execution_count": 37,
   "id": "3649dc01",
   "metadata": {
    "scrolled": true
   },
   "outputs": [
    {
     "data": {
      "text/html": [
       "<div>\n",
       "<style scoped>\n",
       "    .dataframe tbody tr th:only-of-type {\n",
       "        vertical-align: middle;\n",
       "    }\n",
       "\n",
       "    .dataframe tbody tr th {\n",
       "        vertical-align: top;\n",
       "    }\n",
       "\n",
       "    .dataframe thead th {\n",
       "        text-align: right;\n",
       "    }\n",
       "</style>\n",
       "<table border=\"1\" class=\"dataframe\">\n",
       "  <thead>\n",
       "    <tr style=\"text-align: right;\">\n",
       "      <th></th>\n",
       "      <th>Tweets</th>\n",
       "      <th>Subjectivity</th>\n",
       "      <th>Polarity</th>\n",
       "    </tr>\n",
       "  </thead>\n",
       "  <tbody>\n",
       "    <tr>\n",
       "      <th>0</th>\n",
       "      <td>: People often ask me how I tell the differenc...</td>\n",
       "      <td>0.520833</td>\n",
       "      <td>0.104167</td>\n",
       "    </tr>\n",
       "    <tr>\n",
       "      <th>1</th>\n",
       "      <td>\"we fixed it, now it's alphabetic and inclusiv...</td>\n",
       "      <td>0.200000</td>\n",
       "      <td>0.100000</td>\n",
       "    </tr>\n",
       "    <tr>\n",
       "      <th>2</th>\n",
       "      <td>what kind of energy supermix is this, youtube</td>\n",
       "      <td>0.900000</td>\n",
       "      <td>0.600000</td>\n",
       "    </tr>\n",
       "    <tr>\n",
       "      <th>3</th>\n",
       "      <td>this thread in Reader mode is next level</td>\n",
       "      <td>0.000000</td>\n",
       "      <td>0.000000</td>\n",
       "    </tr>\n",
       "    <tr>\n",
       "      <th>4</th>\n",
       "      <td></td>\n",
       "      <td>0.000000</td>\n",
       "      <td>0.000000</td>\n",
       "    </tr>\n",
       "    <tr>\n",
       "      <th>...</th>\n",
       "      <td>...</td>\n",
       "      <td>...</td>\n",
       "      <td>...</td>\n",
       "    </tr>\n",
       "    <tr>\n",
       "      <th>95</th>\n",
       "      <td>: Submitted for your approval: my TOP FIFTY de...</td>\n",
       "      <td>0.600000</td>\n",
       "      <td>0.166667</td>\n",
       "    </tr>\n",
       "    <tr>\n",
       "      <th>96</th>\n",
       "      <td>I remember asking chrome devrel for the jQuer...</td>\n",
       "      <td>1.000000</td>\n",
       "      <td>-0.750000</td>\n",
       "    </tr>\n",
       "    <tr>\n",
       "      <th>97</th>\n",
       "      <td>: ‘Normal life will come back slow and strange...</td>\n",
       "      <td>0.365000</td>\n",
       "      <td>0.060000</td>\n",
       "    </tr>\n",
       "    <tr>\n",
       "      <th>98</th>\n",
       "      <td>This is literally one of my interview questi...</td>\n",
       "      <td>0.700000</td>\n",
       "      <td>0.800000</td>\n",
       "    </tr>\n",
       "    <tr>\n",
       "      <th>99</th>\n",
       "      <td></td>\n",
       "      <td>0.000000</td>\n",
       "      <td>0.000000</td>\n",
       "    </tr>\n",
       "  </tbody>\n",
       "</table>\n",
       "<p>100 rows × 3 columns</p>\n",
       "</div>"
      ],
      "text/plain": [
       "                                               Tweets  Subjectivity  Polarity\n",
       "0   : People often ask me how I tell the differenc...      0.520833  0.104167\n",
       "1   \"we fixed it, now it's alphabetic and inclusiv...      0.200000  0.100000\n",
       "2      what kind of energy supermix is this, youtube       0.900000  0.600000\n",
       "3            this thread in Reader mode is next level      0.000000  0.000000\n",
       "4                                                          0.000000  0.000000\n",
       "..                                                ...           ...       ...\n",
       "95  : Submitted for your approval: my TOP FIFTY de...      0.600000  0.166667\n",
       "96   I remember asking chrome devrel for the jQuer...      1.000000 -0.750000\n",
       "97  : ‘Normal life will come back slow and strange...      0.365000  0.060000\n",
       "98    This is literally one of my interview questi...      0.700000  0.800000\n",
       "99                                                         0.000000  0.000000\n",
       "\n",
       "[100 rows x 3 columns]"
      ]
     },
     "execution_count": 37,
     "metadata": {},
     "output_type": "execute_result"
    }
   ],
   "source": [
    "# Create a function to get the subjectivity\n",
    "def getSubjectivity(text):\n",
    "   return TextBlob(text).sentiment.subjectivity\n",
    "\n",
    "# Create a function to get the polarity\n",
    "def getPolarity(text):\n",
    "   return  TextBlob(text).sentiment.polarity\n",
    "\n",
    "\n",
    "# Create two new columns 'Subjectivity' & 'Polarity'\n",
    "df['Subjectivity'] = df['Tweets'].apply(getSubjectivity)\n",
    "df['Polarity'] = df['Tweets'].apply(getPolarity)\n",
    "\n",
    "# Show the new dataframe with columns 'Subjectivity' & 'Polarity'\n",
    "df\n"
   ]
  },
  {
   "cell_type": "markdown",
   "id": "625c1224",
   "metadata": {},
   "source": [
    "# word cloud visualization"
   ]
  },
  {
   "cell_type": "code",
   "execution_count": 48,
   "id": "6244d7ab",
   "metadata": {},
   "outputs": [
    {
     "data": {
      "image/png": "[encoded data removed]",
      "text/plain": [
       "<Figure size 432x288 with 1 Axes>"
      ]
     },
     "metadata": {
      "needs_background": "light"
     },
     "output_type": "display_data"
    }
   ],
   "source": [
    "\n",
    "# word cloud visualization\n",
    "allWords = ' '.join([i for i in df['Tweets']])\n",
    "Cloud = WordCloud(width=2000, height=1000, random_state=33, max_font_size=333).generate(allWords)\n",
    "\n",
    "\n",
    "plt.imshow(Cloud, interpolation=\"bilinear\")\n",
    "plt.show()"
   ]
  },
  {
   "cell_type": "markdown",
   "id": "3c5571df",
   "metadata": {},
   "source": [
    "# Analysis of Tweets"
   ]
  },
  {
   "cell_type": "code",
   "execution_count": 39,
   "id": "008731a0",
   "metadata": {},
   "outputs": [
    {
     "data": {
      "text/html": [
       "<div>\n",
       "<style scoped>\n",
       "    .dataframe tbody tr th:only-of-type {\n",
       "        vertical-align: middle;\n",
       "    }\n",
       "\n",
       "    .dataframe tbody tr th {\n",
       "        vertical-align: top;\n",
       "    }\n",
       "\n",
       "    .dataframe thead th {\n",
       "        text-align: right;\n",
       "    }\n",
       "</style>\n",
       "<table border=\"1\" class=\"dataframe\">\n",
       "  <thead>\n",
       "    <tr style=\"text-align: right;\">\n",
       "      <th></th>\n",
       "      <th>Tweets</th>\n",
       "      <th>Subjectivity</th>\n",
       "      <th>Polarity</th>\n",
       "      <th>Analysis</th>\n",
       "    </tr>\n",
       "  </thead>\n",
       "  <tbody>\n",
       "    <tr>\n",
       "      <th>0</th>\n",
       "      <td>: People often ask me how I tell the differenc...</td>\n",
       "      <td>0.520833</td>\n",
       "      <td>0.104167</td>\n",
       "      <td>Positive</td>\n",
       "    </tr>\n",
       "    <tr>\n",
       "      <th>1</th>\n",
       "      <td>\"we fixed it, now it's alphabetic and inclusiv...</td>\n",
       "      <td>0.200000</td>\n",
       "      <td>0.100000</td>\n",
       "      <td>Positive</td>\n",
       "    </tr>\n",
       "    <tr>\n",
       "      <th>2</th>\n",
       "      <td>what kind of energy supermix is this, youtube</td>\n",
       "      <td>0.900000</td>\n",
       "      <td>0.600000</td>\n",
       "      <td>Positive</td>\n",
       "    </tr>\n",
       "    <tr>\n",
       "      <th>3</th>\n",
       "      <td>this thread in Reader mode is next level</td>\n",
       "      <td>0.000000</td>\n",
       "      <td>0.000000</td>\n",
       "      <td>Neutral</td>\n",
       "    </tr>\n",
       "    <tr>\n",
       "      <th>4</th>\n",
       "      <td></td>\n",
       "      <td>0.000000</td>\n",
       "      <td>0.000000</td>\n",
       "      <td>Neutral</td>\n",
       "    </tr>\n",
       "    <tr>\n",
       "      <th>...</th>\n",
       "      <td>...</td>\n",
       "      <td>...</td>\n",
       "      <td>...</td>\n",
       "      <td>...</td>\n",
       "    </tr>\n",
       "    <tr>\n",
       "      <th>95</th>\n",
       "      <td>: Submitted for your approval: my TOP FIFTY de...</td>\n",
       "      <td>0.600000</td>\n",
       "      <td>0.166667</td>\n",
       "      <td>Positive</td>\n",
       "    </tr>\n",
       "    <tr>\n",
       "      <th>96</th>\n",
       "      <td>I remember asking chrome devrel for the jQuer...</td>\n",
       "      <td>1.000000</td>\n",
       "      <td>-0.750000</td>\n",
       "      <td>Negative</td>\n",
       "    </tr>\n",
       "    <tr>\n",
       "      <th>97</th>\n",
       "      <td>: ‘Normal life will come back slow and strange...</td>\n",
       "      <td>0.365000</td>\n",
       "      <td>0.060000</td>\n",
       "      <td>Positive</td>\n",
       "    </tr>\n",
       "    <tr>\n",
       "      <th>98</th>\n",
       "      <td>This is literally one of my interview questi...</td>\n",
       "      <td>0.700000</td>\n",
       "      <td>0.800000</td>\n",
       "      <td>Positive</td>\n",
       "    </tr>\n",
       "    <tr>\n",
       "      <th>99</th>\n",
       "      <td></td>\n",
       "      <td>0.000000</td>\n",
       "      <td>0.000000</td>\n",
       "      <td>Neutral</td>\n",
       "    </tr>\n",
       "  </tbody>\n",
       "</table>\n",
       "<p>100 rows × 4 columns</p>\n",
       "</div>"
      ],
      "text/plain": [
       "                                               Tweets  Subjectivity  Polarity  \\\n",
       "0   : People often ask me how I tell the differenc...      0.520833  0.104167   \n",
       "1   \"we fixed it, now it's alphabetic and inclusiv...      0.200000  0.100000   \n",
       "2      what kind of energy supermix is this, youtube       0.900000  0.600000   \n",
       "3            this thread in Reader mode is next level      0.000000  0.000000   \n",
       "4                                                          0.000000  0.000000   \n",
       "..                                                ...           ...       ...   \n",
       "95  : Submitted for your approval: my TOP FIFTY de...      0.600000  0.166667   \n",
       "96   I remember asking chrome devrel for the jQuer...      1.000000 -0.750000   \n",
       "97  : ‘Normal life will come back slow and strange...      0.365000  0.060000   \n",
       "98    This is literally one of my interview questi...      0.700000  0.800000   \n",
       "99                                                         0.000000  0.000000   \n",
       "\n",
       "    Analysis  \n",
       "0   Positive  \n",
       "1   Positive  \n",
       "2   Positive  \n",
       "3    Neutral  \n",
       "4    Neutral  \n",
       "..       ...  \n",
       "95  Positive  \n",
       "96  Negative  \n",
       "97  Positive  \n",
       "98  Positive  \n",
       "99   Neutral  \n",
       "\n",
       "[100 rows x 4 columns]"
      ]
     },
     "execution_count": 39,
     "metadata": {},
     "output_type": "execute_result"
    }
   ],
   "source": [
    "# Create a function to compute negative (-1), neutral (0) and positive (+1) analysis\n",
    "def getAnalysis(score):\n",
    "   if score <0:\n",
    "      return 'Negative'\n",
    "   elif score == 0:\n",
    "       return 'Neutral'\n",
    "   else:\n",
    "        return 'Positive'\n",
    "\n",
    "df['Analysis'] = df['Polarity'].apply(getAnalysis)\n",
    "# Show the dataframe\n",
    "df"
   ]
  },
  {
   "cell_type": "markdown",
   "id": "4ed81e70",
   "metadata": {},
   "source": [
    "# % of +ve and -ve Tweets"
   ]
  },
  {
   "cell_type": "code",
   "execution_count": 44,
   "id": "ff0c0453",
   "metadata": {},
   "outputs": [
    {
     "data": {
      "text/plain": [
       "39.0"
      ]
     },
     "execution_count": 44,
     "metadata": {},
     "output_type": "execute_result"
    }
   ],
   "source": [
    "# Print the percentage of positive tweets\n",
    "ptweets = df[df.Analysis == 'Positive']\n",
    "ptweets = ptweets['Tweets']\n",
    "ptweets\n",
    "\n",
    "round( (ptweets.shape[0] / df.shape[0]) * 100 , 1)"
   ]
  },
  {
   "cell_type": "code",
   "execution_count": 45,
   "id": "db392c7e",
   "metadata": {},
   "outputs": [
    {
     "data": {
      "text/plain": [
       "14.0"
      ]
     },
     "execution_count": 45,
     "metadata": {},
     "output_type": "execute_result"
    }
   ],
   "source": [
    "# Print the percentage of negative tweets\n",
    "ntweets = df[df.Analysis == 'Negative']\n",
    "ntweets = ntweets['Tweets']\n",
    "ntweets\n",
    "\n",
    "round( (ntweets.shape[0] / df.shape[0]) * 100, 1)"
   ]
  },
  {
   "cell_type": "markdown",
   "id": "41e7b467",
   "metadata": {},
   "source": [
    "# The most positive tweet is the 1 tweet."
   ]
  },
  {
   "cell_type": "code",
   "execution_count": 40,
   "id": "787631c9",
   "metadata": {},
   "outputs": [
    {
     "name": "stdout",
     "output_type": "stream",
     "text": [
      "Printing positive tweets:\n",
      "\n",
      "1) : People often ask me how I tell the difference between ADHD and Autism. It's hard - I know ADHD people ask this more, so he…\n",
      "\n",
      "2) \"we fixed it, now it's alphabetic and inclusive of non-binary people\"\n",
      "\n",
      "🤨 \n",
      "\n",
      "3) what kind of energy supermix is this, youtube \n",
      "\n",
      "4) The consultant got out her notepad and checked a box. This facility was operating effectively and would meet its counter-productivity targets for the quarter.\n",
      "\n",
      "Yes, this would do. Another successful day as a DEI consultant on the books.\n",
      "\n",
      "5) “What are they doing?”\n",
      "\n",
      "The supervisor shrugged. “Not much. It keeps them occupied. That lever’s the key.”\n",
      "\n",
      "“Why?”\n",
      "\n",
      "“Between you and me… it makes ‘em feel like they're doing something,” he scoffed. “But mostly it prevents them from doing anything.”\n",
      "\n",
      "6)  the Nazgul are doing it right because they're always wearing masks. based\n",
      "\n",
      "7) _gay: ADHD life \n",
      "\n",
      "8) : More broadly, it SOUNDS sexy and ingenious to find simple solutions for complex, pressing problems. But in practice, wh…\n",
      "\n",
      "9) Prof: \"You know, the new CEO of World Com was faced with this very problem. The company was linked to one of the biggest fraud cases in history. So he proposed . . .\"\n",
      "\n",
      "Stringer: \"To change the name.\"\n",
      "\n",
      "Prof: \"Exactly.\"\n",
      "\n",
      "10) Stringer Bell: \"What are the options when you've got an inferior product in an aggressive marketplace?\"\n",
      "\n",
      "Stringer's Community College Business Professor: \"Well, if you have a large share of the market you buy up the competition.\" \n",
      "\n",
      "11)  speaking of amazing scenes from that movie, azshara meeting n'zoth ( really reminded me of megatron meeting unicron  (\n",
      "\n",
      "12) : My dad made a “meme” and asked me to spread it as far as I can so here you go \n",
      "\n",
      "13) 6: There's a huge difference between the way today's students understand computers and the way today's professors do. It's st…\n",
      "\n",
      "14) : this is the most cat thing ive ever seen \n",
      "\n",
      "15) _place: Aaaaaand we're live! ⚡\n",
      "\n",
      "Come meet, chat, and play with your favorite people in your own virtual space. Now at \n",
      "\n",
      "16) \"In order for our technological innovations to reflect how humans perceive reality, we must make sure we’re building metrics that model the world in the ways we do.\" \n",
      "\n",
      "17) : Gay Dutch artist Willem Arondeus has been executed this month by Nazi occupiers of the Netherlands, after he bombed Amste…\n",
      "\n",
      "18) : Welcome to the Doodle Champion Island Games!\n",
      "\n",
      "In this interactive GoogleDoodle, join calico (c)athlete Lucky as she exp…\n",
      "\n",
      "19) : I just published Why has User Experience Design become Legal Experience Design?  \n",
      "a11y accessibility…\n",
      "\n",
      "20)  it's the \"ok\" they can't deal with\n",
      "\n",
      "21) wow \n",
      "\n",
      "22) : Excited to announce Search Atlas, a new project (w/ Rodrigo Ochigame) in DIS '21!\n",
      "\n",
      "We built a search engine that lets you sea…\n",
      "\n",
      "23) \"I think he bought a few too many NTFs\" \n",
      "\n",
      "24) _sleepy the dark souls x braid crossover everyone wants\n",
      "\n",
      "25)  Are more power tools the answer?\n",
      "\n",
      "26) @__apf__: 👀 we're testing out a way to follow websites directly in Chrome. if you follow a site, content shows up on the new tab page as…\n",
      "\n",
      "27) What's something that feels like a year old tweet format meme but isn't?\n",
      "\n",
      "28)  \"drawing rectangles is the most important part of being a designer, which is why 2/4 of the onsite interviews are figma\"\n",
      "\n",
      "29) : I knew I was the only poor person at my tech startup because nobody else ate the Hot Cheetos that were stocked in our free s…\n",
      "\n",
      "30) : The WHO just updated its page on how COVID-19 transmits. Those few sentences on aerosols represent one of the most crucial scie…\n",
      "\n",
      "31) _drop Right above this \n",
      "\n",
      "32) : What's funny to me is that they either thought people wouldn't actually do it, or more likely they are confused and dismayed a…\n",
      "\n",
      "33) : 📣📣📣 Google UX Apprenticeship applications are open. \n",
      "\n",
      "Get on-the-job experience and complete Google's new UX Certificatio…\n",
      "\n",
      "34)  It is lol :(\n",
      "\n",
      "35) : If you want to go a step further, you can build cause &amp; effect systems based off *first principles*. Like how educated vis…\n",
      "\n",
      "36)   Knew what this would be before I tapped haha\n",
      "\n",
      "37) : Submitted for your approval: my TOP FIFTY design decisions in WarioWare DIY. This game has been a huge influence on me for th…\n",
      "\n",
      "38) : ‘Normal life will come back slow and strange, like plant life after a nuclear blast. We won’t be able to see the damage until…\n",
      "\n",
      "39)   This is literally one of my interview questions lol\n",
      "\n"
     ]
    }
   ],
   "source": [
    "# Printing positive tweets \n",
    "print('Printing positive tweets:\\n')\n",
    "j=1\n",
    "sortedDF = df.sort_values(by=['Polarity']) #Sort the tweets\n",
    "for i in range(0, sortedDF.shape[0] ):\n",
    "  if( sortedDF['Analysis'][i] == 'Positive'):\n",
    "    print(str(j) + ') '+ sortedDF['Tweets'][i])\n",
    "    print()\n",
    "    j= j+1"
   ]
  },
  {
   "cell_type": "markdown",
   "id": "33b44a65",
   "metadata": {},
   "source": [
    "# The most negative tweet is the #1 tweet.\n"
   ]
  },
  {
   "cell_type": "code",
   "execution_count": 41,
   "id": "2ce8e7b2",
   "metadata": {},
   "outputs": [
    {
     "name": "stdout",
     "output_type": "stream",
     "text": [
      "Printing negative tweets:\n",
      "\n",
      "1)  no but I might have to now!! this is just my average wednesday afternoon\n",
      "\n",
      "2)   my favourite part about this was that it made me wonder what other field i could spend a month learning about only to have everything around me in the world that related to it ruined\n",
      "\n",
      "3) She watched as one of the operators pulled back on their lever. A package popped out, dropped onto a conveyor belt, and was deposited a few rows down, where it disappeared into another worker's kiosk. She turned to the supervisor.\n",
      "\n",
      "4) Looking out over the factory floor, the distraction, exhaustion and indifference consultant saw rows and rows of workers, packed tightly together, staring at kiosks displaying shifting imagery. Each station had a button, a lever and a basket.\n",
      "\n",
      "5) : Awaken the unholiest queen, ready to corrupt the core of your absolute being. 💋👑🩸\n",
      "Samhain2021 HappyHalloween2021 \n",
      "(1/3…\n",
      "\n",
      "6)  the concept of letting go of irrational annoyances :/\n",
      "\n",
      "7) Stringer (shaking his head): \"And if you don't?\"\n",
      "\n",
      "Prof: \"Reduce price and increase market share.\"\n",
      "\n",
      "Stringer: \"That assumes low overhead.\"\n",
      "\n",
      "Prof: \"Of course. Otherwise you operate at a loss. And worse, as your prices drop, your product loses consumer credibility.\"\n",
      "\n",
      "8)  I hate to break it to you but,\n",
      "\n",
      "9) : Drove out to the top of a mountain in the Alleghenies to a sprawling complex that has been a lot things over the past 105 ye…\n",
      "\n",
      "10)  \"It is literally the worst part of everything it's in. It's like the Jared Leto of fruits!\"\n",
      "\n",
      "11)  \"browse features\" usually means you're on the homepage iirc\n",
      "\n",
      "12) _iDesign I went through the same realisation, and also found that those first three can evolve into negative traits (eg pretentiousness, smugness, growth-at-all-costs etc) whereas the latter three don't\n",
      "\n",
      "13)  Tricky selecting but I just highlighted the empty space next to the name until it out a dotted line around the entire heading and that seemed to work\n",
      "\n",
      "14)  I remember asking chrome devrel for the jQuery of service workers a decade ago, assuming it'd take a year or two. Still waiting :(\n",
      "\n"
     ]
    }
   ],
   "source": [
    "# Printing negative tweets  \n",
    "print('Printing negative tweets:\\n')\n",
    "j=1\n",
    "sortedDF = df.sort_values(by=['Polarity'],ascending=False) #Sort the tweets\n",
    "for i in range(0, sortedDF.shape[0] ):\n",
    "  if( sortedDF['Analysis'][i] == 'Negative'):\n",
    "    print(str(j) + ') '+sortedDF['Tweets'][i])\n",
    "    print()\n",
    "    j=j+1"
   ]
  },
  {
   "cell_type": "markdown",
   "id": "d39bf4e8",
   "metadata": {},
   "source": [
    "# COUNTS OF +VE, -VE AND NEUTRAL"
   ]
  },
  {
   "cell_type": "code",
   "execution_count": 42,
   "id": "4ec240fe",
   "metadata": {},
   "outputs": [
    {
     "data": {
      "text/plain": [
       "Neutral     47\n",
       "Positive    39\n",
       "Negative    14\n",
       "Name: Analysis, dtype: int64"
      ]
     },
     "execution_count": 42,
     "metadata": {},
     "output_type": "execute_result"
    }
   ],
   "source": [
    "# Show the value counts\n",
    "df['Analysis'].value_counts()"
   ]
  },
  {
   "cell_type": "markdown",
   "id": "0682d500",
   "metadata": {},
   "source": [
    "#                     Plotting of tweets \n",
    "             according to (subjectivity and polarity)"
   ]
  },
  {
   "cell_type": "code",
   "execution_count": 43,
   "id": "ceaffb7e",
   "metadata": {},
   "outputs": [
    {
     "data": {
      "image/png": "[encoded data removed]",
      "text/plain": [
       "<Figure size 576x432 with 1 Axes>"
      ]
     },
     "metadata": {
      "needs_background": "light"
     },
     "output_type": "display_data"
    }
   ],
   "source": [
    "# Plotting \n",
    "plt.figure(figsize=(8,6)) \n",
    "for i in range(0, df.shape[0]):\n",
    "  plt.scatter(df[\"Polarity\"][i], df[\"Subjectivity\"][i], color='Blue') \n",
    "# plt.scatter(x,y,color)   \n",
    "plt.title('Sentiment Analysis') \n",
    "plt.xlabel('Polarity') \n",
    "plt.ylabel('Subjectivity') \n",
    "plt.show()"
   ]
  },
  {
   "cell_type": "code",
   "execution_count": 47,
   "id": "98de455e",
   "metadata": {},
   "outputs": [
    {
     "data": {
      "image/png": "[encoded data removed]",
      "text/plain": [
       "<Figure size 432x288 with 1 Axes>"
      ]
     },
     "metadata": {
      "needs_background": "light"
     },
     "output_type": "display_data"
    }
   ],
   "source": [
    " #Plotting and visualizing the counts\n",
    "plt.title('Sentiment Analysis')\n",
    "plt.xlabel('Sentiment')\n",
    "plt.ylabel('Counts')\n",
    "df['Analysis'].value_counts().plot(kind = 'bar')\n",
    "plt.show()"
   ]
  },
  {
   "cell_type": "code",
   "execution_count": null,
   "id": "c569c440",
   "metadata": {},
   "outputs": [],
   "source": []
  }
 ],
 "metadata": {
  "kernelspec": {
   "display_name": "Python 3 (ipykernel)",
   "language": "python",
   "name": "python3"
  },
  "language_info": {
   "codemirror_mode": {
    "name": "ipython",
    "version": 3
   },
   "file_extension": ".py",
   "mimetype": "text/x-python",
   "name": "python",
   "nbconvert_exporter": "python",
   "pygments_lexer": "ipython3",
   "version": "3.9.7"
  }
 },
 "nbformat": 4,
 "nbformat_minor": 5
}
